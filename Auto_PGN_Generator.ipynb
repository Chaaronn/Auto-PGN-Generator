{
  "cells": [
    {
      "cell_type": "markdown",
      "metadata": {
        "id": "view-in-github",
        "colab_type": "text"
      },
      "source": [
        "<a href=\"https://colab.research.google.com/github/Chaaronn/Auto-PGN-Generator/blob/master/Auto_PGN_Generator.ipynb\" target=\"_parent\"><img src=\"https://colab.research.google.com/assets/colab-badge.svg\" alt=\"Open In Colab\"/></a>"
      ]
    },
    {
      "cell_type": "markdown",
      "source": [
        "# Automatically generate a PGN based off given configuration.\n",
        "\n",
        "This notebook takes user configuration and generates PGN dependant on these. I made this specifically to create new studies on Listudy, will lines that other people have played for more 'realistic' training.\n",
        "\n",
        "It takes on average ~10 minutes to produce results, but is dependant on depth and number of lines. If you have a good PC, you can connect to a local runtime and it will produce much faster.\n",
        "\n",
        "Github repo: [Here](https://github.com/Chaaronn/Auto-PGN-Generator)\n",
        "\n",
        "Example Lichess study: [Here](https://lichess.org/study/IDf2Qi7W)\n",
        "\n",
        "Example Listudy: [Here](https://listudy.org/en/studies/1y9j6m-generated-openings)\n",
        "\n",
        "---\n",
        "\n",
        "\n",
        "\n",
        "**Quick use:**\n",
        "\n",
        "File > Save copy in Drive > Open this version - this allows you to run all cells from one click\n",
        "\n",
        "Runtime > Run All > PGN will be displayed at the bottom.\n",
        "\n",
        "If on mobile, run all cells in sequence. (sometimes Runtime menu is hidden)\n",
        "\n",
        "Once the notebook has been ran once, you only need to run the cells below *configuration* (setup, create lines, display pgn)\n",
        "\n",
        "\n",
        "**Configuration:** \n",
        "\n",
        "Scroll down until you see the section, edit values in the form.\n",
        "\n",
        "Once value are edited, follow Quick Use.\n",
        "\n",
        "\n",
        "---"
      ],
      "metadata": {
        "id": "R2AMNTsZ7JlX"
      }
    },
    {
      "cell_type": "code",
      "source": [
        "#@title Get the files\n",
        "%%capture\n",
        "\n",
        "!pip install python-chess\n",
        "!git clone https://github.com/Chaaronn/Auto-PGN-Generator.git\n",
        "!wget https://stockfishchess.org/files/stockfish_14_linux_x64_popcnt.zip && \\\n",
        "unzip stockfish_14_linux_x64_popcnt.zip stockfish_14_linux_x64_popcnt/stockfish_14_x64_popcnt"
      ],
      "metadata": {
        "id": "riied8c1velB",
        "cellView": "form"
      },
      "execution_count": null,
      "outputs": []
    },
    {
      "cell_type": "code",
      "execution_count": 2,
      "metadata": {
        "id": "Ic9tKAsmvNNZ",
        "cellView": "form"
      },
      "outputs": [],
      "source": [
        "#@title Code Imports\n",
        "%%capture\n",
        "import requests, random, json, os, sys, ast\n",
        "import chess\n",
        "import chess.pgn, chess.engine\n",
        "import configparser\n",
        "import datetime\n",
        "from IPython.display import HTML, display\n",
        "import time\n"
      ]
    },
    {
      "cell_type": "code",
      "execution_count": 3,
      "metadata": {
        "id": "ZUsQJAt8vNNg",
        "cellView": "form"
      },
      "outputs": [],
      "source": [
        "#@title Code setup\n",
        "\n",
        "config = configparser.ConfigParser()\n",
        "try:\n",
        "    config.read('Auto-PGN-Generator/setup.ini')\n",
        "except IOError as e:\n",
        "    print(\"Error reading setup.ini:\", str(e))\n",
        "    sys.exit(1)\n",
        "\n",
        "stockfish_path = (\"/content/stockfish_14_linux_x64_popcnt/stockfish_14_x64_popcnt\")\n",
        "\n",
        "\n",
        "f = open('Auto-PGN-Generator/openings.json')\n",
        "try:\n",
        "    opening_json = json.load(f)\n",
        "    f.close()\n",
        "except json.JSONDecodeError as e:\n",
        "    print(\"Error in JSON handling\"), str(e)\n",
        "    f.close()\n",
        "    sys.exit(1)\n",
        "\n",
        "\n",
        "def get_database_from_fen(fen):\n",
        "    # the range of ratings the database moves will come from\n",
        "    rating_range = ast.literal_eval(config['DATABASE']['rating_range'])\n",
        "    # the number of moves to return (helpful to keep this +5 from max of database_choices)\n",
        "    moves_to_display = config['DATABASE']['moves_to_display']\n",
        "    try:\n",
        "        resp = requests.get('https://explorer.lichess.ovh/lichess', \n",
        "                            params={'variant' : 'standard', 'fen': fen, 'moves': moves_to_display, 'rating' : rating_range})\n",
        "        resp.raise_for_status()  # Check for any HTTP errors\n",
        "        return resp.json()\n",
        "    except requests.exceptions.RequestException as e:\n",
        "        print(\"Error making API request:\", str(e))\n",
        "        sys.exit(1)\n",
        "     \n",
        "def get_top_move(db,move_level,engine):\n",
        "    # try to get a move from db, otherwise use stockfish\n",
        "    try:\n",
        "        move = db['moves'][move_level]['uci']\n",
        "    # except is either no db moves, or not one at move_level\n",
        "    except:\n",
        "        move = get_stockfish_move(board, engine)\n",
        "    return move\n",
        "\n",
        "def get_stockfish_analysis(board, engine):\n",
        "    # analyse given board and return Centipawns from White perspective\n",
        "    # used to stop db choices being wild\n",
        "    # could change to utilising Lichess online eval to save processing\n",
        "    info = engine.analyse(board, chess.engine.Limit(depth=depth))\n",
        "    return info['score']\n",
        "\n",
        "def get_stockfish_move(board, engine):\n",
        "    # gets top move from stockfish on given board state\n",
        "    # get info from analysis    \n",
        "    info = engine.analyse(board, chess.engine.Limit(depth=depth))\n",
        "    # get only the top move\n",
        "    move = str(info['pv'][0])\n",
        "    return move\n",
        "\n",
        "def play_opening(board,opening):\n",
        "    \n",
        "    # plays the opening as specifed in INI file\n",
        "    try:\n",
        "        opening_moves = opening_json[main_opening][0][opening]\n",
        "    except KeyError as e:\n",
        "        print('Error: Invalid Opening', str(e))\n",
        "        sys.exit(1)\n",
        "    for move in opening_moves:\n",
        "        board.push_uci(move)\n",
        "    return board\n",
        "\n",
        "def clean_analysis(string):\n",
        "    # fixed mate issue with this\n",
        "    mate_string = 'vScore(Mate('\n",
        "    if mate_string in string:\n",
        "        if side.lower() == 'white':\n",
        "            string = 999\n",
        "            return string\n",
        "        else:\n",
        "            string = -999\n",
        "            return string \n",
        "    # always starts the same \n",
        "    start_index = string.find('Cp(') + 3\n",
        "    end_index = string.find(')', start_index)\n",
        "    number_string = string[start_index:end_index]\n",
        "    if number_string.startswith('+'):\n",
        "        number_string = number_string[1:]  # Remove the leading '+'\n",
        "    string = int(number_string)\n",
        "    return string\n",
        "\n",
        "\n",
        "def make_moves(board,engine,move_list,max_cp,side):\n",
        "    # board.turn will return True if it whites turn, False if black\n",
        "    if side.lower() == 'white':\n",
        "        if board.turn:\n",
        "            move = get_stockfish_move(board,engine)\n",
        "            board.push_uci(move)            \n",
        "        else:\n",
        "            # db logic here\n",
        "            move_level = random.choice(database_choices)\n",
        "            move = get_top_move(move_list,move_level,engine)\n",
        "            board.push_uci(move)\n",
        "\n",
        "            # now it analyses db moves and if cp is greater than 150, gets stockfish move\n",
        "            current_centipawns = str(get_stockfish_analysis(board,engine))\n",
        "            # necassary to remove none int values from string\n",
        "            current_centipawns = clean_analysis(current_centipawns)\n",
        "            # compare cp against max\n",
        "            if current_centipawns >= max_cp:\n",
        "                # if move is bad, return to previous state and push sf move\n",
        "                board.pop()\n",
        "                move = get_stockfish_move(board,engine)\n",
        "                board.push_uci(move)\n",
        "            else:\n",
        "                # move on, the db move was good enough\n",
        "                pass\n",
        "    elif side.lower() == 'black':\n",
        "\n",
        "        if board.turns:\n",
        "               # db logic here\n",
        "            move_level = random.choice(database_choices)\n",
        "            move = get_top_move(move_list,move_level,engine)\n",
        "            board.push_uci(move)\n",
        "\n",
        "            # now it analyses db moves and if cp is greater than 150, gets stockfish move\n",
        "            current_centipawns = str(get_stockfish_analysis(board,engine))\n",
        "            # necassary to remove none int values from string\n",
        "            #current_centipawns = int(re.sub(\"[^0-9]\", \"\", current_centipawns)) \n",
        "            current_centipawns = clean_analysis(current_centipawns)\n",
        "            # compare cp against max\n",
        "            if current_centipawns >= max_cp:\n",
        "                # if move is bad, return to previous state and push sf move\n",
        "                board.pop()\n",
        "                move = get_stockfish_move(board,engine)\n",
        "                board.push_uci(move)\n",
        "            else:\n",
        "                # move on, the db move was good enough\n",
        "                pass\n",
        "        else:\n",
        "            move = get_stockfish_move(board,engine)\n",
        "            board.push_uci(move)\n",
        "    else:\n",
        "        print('Error in choosing side. Ensure only White or Black is Selected')\n",
        "\n",
        "def progress(value, max):\n",
        "    return HTML(\"\"\"\n",
        "        <progress\n",
        "            value='{value}'\n",
        "            max='{max}',\n",
        "            style='width: 100%'\n",
        "        >\n",
        "            {value}\n",
        "        </progress>\n",
        "    \"\"\".format(value=value, max=max))"
      ]
    },
    {
      "cell_type": "markdown",
      "source": [
        "# Configuration\n",
        "\n",
        "\n",
        "Opening set-up must be the exact spelling as in the available openings. Otherwise, you will get an error.\n",
        "\n",
        "You can find the openings [here.](https://raw.githubusercontent.com/Chaaronn/Auto-PGN-Generator/master/openings.json) They are represented as UCI notation.\n",
        "\n",
        "\n",
        "```\n",
        "# \"Caro Khan\" : [\n",
        "        {\n",
        "        \"Base\" : [\"e2e4\", \"c7c6\", \"d2d4\", \"d7d5\"],\n",
        "        \"Advance\" : [\"e2e4\", \"c7c6\", \"d2d4\", \"d7d5\",\"e4e5\"],\n",
        "        \"Exchange\" : [\"e2e4\", \"c7c6\", \"d2d4\", \"d7d5\",\"e4d5\", \"c6d5\"],\n",
        "        \"Main Line\" : [\"e2e4\", \"c7c6\", \"d2d4\", \"d7d5\",\"b1c3\", \"d5e4\", \"c3d4\"],\n",
        "        \"Modern\" : [\"e2e4\", \"c7c6\", \"d2d4\", \"d7d5\", \"b1d2\"]\n",
        "        }\n",
        "```\n",
        "\n",
        "For explainations I will use the Caro Khan from this file.\n",
        "\n",
        "**Explainations:**\n",
        "*   *main_opening* - e.g. Caro Khan\n",
        "*   *variation_name* - e.g. Advance, Exchange\n",
        "*    *max_variations* - this is the number of variations attempted. currently can give duplicates, so put it higher than you want. Must be given as a whole number. e.g. 10\n",
        "* *moves_per_line* - the number of moves for any variations. Must be given as a whole number. e.g. 10\n",
        "* *max_centipawns* - this is the maximum CP value of database moves before stockfish is reverted to. Must be given as a *positive* whole number. e.g. 250\n",
        "* *threads* - the number of threads the CPU will use (more suited to local running, recommended 2)\n",
        "\n",
        "\n",
        "The higher the number of variations/moves per line/depth, the longer its going to take to produce results. At depth=20, lines=10, moves=10, it takes around 15 minutes. Depth 25 around 24min. Working on reducing it.\n",
        "\n",
        "Lower max_centipawns will lead to higher level games, so adjust this accordingly to the rating range.\n"
      ],
      "metadata": {
        "id": "2i48uu6y0A6L"
      }
    },
    {
      "cell_type": "code",
      "execution_count": 4,
      "metadata": {
        "id": "V3nhsC6PvNNp",
        "colab": {
          "base_uri": "https://localhost:8080/"
        },
        "cellView": "form",
        "outputId": "ccf4867d-d0f2-4c90-84d5-8c1e2cf67d84"
      },
      "outputs": [
        {
          "output_type": "stream",
          "name": "stdout",
          "text": [
            "Engine Loaded\n"
          ]
        }
      ],
      "source": [
        "#@title SETUP\n",
        "\n",
        "side = \"White\"                          #@param[\"White\", \"Black\"]\n",
        "main_opening = \"Sicilian Defence Open\"  #@param {type:\"string\"}\n",
        "variation_name = \"Dragon\"      #@param {type:\"string\"}\n",
        "\n",
        "# set-up the board\n",
        "board = chess.Board()\n",
        "# play out the speicifed opening. this is required or the PGN will be incorrect\n",
        "board = play_opening(board,variation_name)\n",
        "# set-up game to add lines later\n",
        "game = chess.pgn.Game()\n",
        "# add headers so on import it looks nice on Lichess\n",
        "game.headers['Event'] = main_opening + ' - ' + variation_name\n",
        "\n",
        "max_variations = 10                     #@param {type:\"integer\"}\n",
        "current_variations = 0\n",
        "# max number of moves per line\n",
        "moves_per_line = 10                     #@param {type:\"integer\"}\n",
        "# how low down the top moves we look when choosing black's moves\n",
        "# load with ast otherwise its just a string\n",
        "database_choices = ast.literal_eval(config['DATABASE']['database_choices'])\n",
        "# max centipawn value before we use stockfish instead of db\n",
        "max_centipawns = 300                    #@param {type:\"integer\"}\n",
        "# load engine\n",
        "engine = chess.engine.SimpleEngine.popen_uci(stockfish_path)\n",
        "depth = 20                              #@param {type:\"integer\"}\n",
        "threads = 2\n",
        "engine.configure({'Threads': threads}) \n",
        "print('Engine Loaded')"
      ]
    },
    {
      "cell_type": "code",
      "execution_count": 5,
      "metadata": {
        "id": "m6AbXyF7vNNr",
        "cellView": "form"
      },
      "outputs": [],
      "source": [
        "#@title Create lines\n",
        "%%capture\n",
        "out = display(progress(current_variations, max_variations), display_id=True)\n",
        "while current_variations != max_variations:\n",
        "    # start new line\n",
        "    while board.fullmove_number <= moves_per_line:\n",
        "        # this will have to be repeated after every move\n",
        "        move_list = get_database_from_fen(board.fen())\n",
        "        # make a move\n",
        "        make_moves(board, engine, move_list, max_centipawns,side)\n",
        "\n",
        "    # once we reach 10 moves, add line to pgn, reset to opening\n",
        "    # added so lines always end with a final White move\n",
        "    if board.turn:\n",
        "            move = get_stockfish_move(board,engine)\n",
        "            board.push_uci(move)\n",
        "    \n",
        "    game.add_line(board.move_stack)\n",
        "    current_variations += 1\n",
        "    board.reset()\n",
        "    board = play_opening(board,variation_name)\n",
        "    out.update(progress(current_variations, max_variations))\n",
        "\n",
        "engine.quit()"
      ]
    },
    {
      "cell_type": "markdown",
      "source": [],
      "metadata": {
        "id": "gPRUFsl2zCxU"
      }
    },
    {
      "cell_type": "code",
      "execution_count": 6,
      "metadata": {
        "id": "xdTA5CifvNNs",
        "colab": {
          "base_uri": "https://localhost:8080/"
        },
        "outputId": "33b4784b-34cb-49db-af9d-8b269ca0cd43",
        "cellView": "form"
      },
      "outputs": [
        {
          "output_type": "stream",
          "name": "stdout",
          "text": [
            "[Event \"Sicilian Defence Open - Dragon\"]\n",
            "[Site \"?\"]\n",
            "[Date \"????.??.??\"]\n",
            "[Round \"?\"]\n",
            "[White \"?\"]\n",
            "[Black \"?\"]\n",
            "[Result \"*\"]\n",
            "\n",
            "1. e4 ( 1. e4 c5 2. Nf3 d6 3. d4 cxd4 4. Nxd4 Nf6 5. Nc3 g6 6. Be3 Nc6 7. f3 Bd7 8. g4 Bg7 9. Qd2 O-O 10. O-O-O Ne5 11. h4 ) ( 1. e4 c5 2. Nf3 d6 3. d4 cxd4 4. Nxd4 Nf6 5. Nc3 g6 6. Be3 Bg7 7. f3 a6 8. Qd2 b5 9. a4 b4 10. Na2 d5 11. e5 ) ( 1. e4 c5 2. Nf3 d6 3. d4 cxd4 4. Nxd4 Nf6 5. Nc3 g6 6. f3 Qb6 7. Be3 a6 8. Qc1 Qa5 9. Qd2 Bg7 10. O-O-O Nc6 11. Bc4 ) ( 1. e4 c5 2. Nf3 d6 3. d4 cxd4 4. Nxd4 Nf6 5. Nc3 g6 6. Be3 a6 7. Qd2 Bg7 8. f3 Nc6 9. O-O-O Bd7 10. g4 b5 11. h4 ) ( 1. e4 c5 2. Nf3 d6 3. d4 cxd4 4. Nxd4 Nf6 5. Nc3 g6 6. Be3 Nc6 7. f3 Bg7 8. Qd2 O-O 9. g4 Be6 10. Nxe6 fxe6 11. O-O-O ) ( 1. e4 c5 2. Nf3 d6 3. d4 cxd4 4. Nxd4 Nf6 5. Nc3 g6 6. Be3 Bg7 7. f3 Nc6 8. Qd2 O-O 9. g4 Nxd4 10. Bxd4 e5 11. Be3 ) ( 1. e4 c5 2. Nf3 d6 3. d4 cxd4 4. Nxd4 Nf6 5. Nc3 g6 6. Be3 Nc6 7. f3 h5 8. Bc4 Nxd4 9. Bxd4 Be6 10. Bb5+ Bd7 11. Bxd7+ ) ( 1. e4 c5 2. Nf3 d6 3. d4 cxd4 4. Nxd4 Nf6 5. Nc3 g6 6. f3 a6 7. Be3 Nc6 8. Qd2 h5 9. O-O-O Qa5 10. Kb1 Bg7 11. Bc4 ) ( 1. e4 c5 2. Nf3 d6 3. d4 cxd4 4. Nxd4 Nf6 5. Nc3 g6 6. Be3 Nc6 7. f3 h5 8. Be2 Bg7 9. Qd2 Bd7 10. O-O-O a6 11. h3 ) 1... c5 2. Nf3 d6 3. d4 cxd4 4. Nxd4 Nf6 5. Nc3 g6 6. Be3 a6 7. f3 b5 8. Qd2 Bb7 9. a4 e5 10. Nb3 b4 11. Nd5 *\n"
          ]
        }
      ],
      "source": [
        "#@title Display PGN\n",
        "print(game)"
      ]
    },
    {
      "cell_type": "markdown",
      "metadata": {
        "id": "wobQ4-c6vNNs"
      },
      "source": [
        "Now copy and paste the above into your preferred analysis engine!\n",
        "\n",
        "I recommend Lichess study, as this will auto condense repeated lines."
      ]
    }
  ],
  "metadata": {
    "kernelspec": {
      "display_name": "Python 3",
      "language": "python",
      "name": "python3"
    },
    "language_info": {
      "codemirror_mode": {
        "name": "ipython",
        "version": 3
      },
      "file_extension": ".py",
      "mimetype": "text/x-python",
      "name": "python",
      "nbconvert_exporter": "python",
      "pygments_lexer": "ipython3",
      "version": "3.6.4"
    },
    "colab": {
      "provenance": [],
      "gpuType": "T4",
      "include_colab_link": true
    },
    "accelerator": "GPU",
    "gpuClass": "standard"
  },
  "nbformat": 4,
  "nbformat_minor": 0
}